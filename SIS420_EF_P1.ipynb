{
  "nbformat": 4,
  "nbformat_minor": 0,
  "metadata": {
    "colab": {
      "provenance": []
    },
    "kernelspec": {
      "name": "python3",
      "display_name": "Python 3"
    },
    "language_info": {
      "name": "python"
    }
  },
  "cells": [
    {
      "cell_type": "code",
      "execution_count": 1,
      "metadata": {
        "colab": {
          "base_uri": "https://localhost:8080/"
        },
        "id": "cfLC5yzymZNq",
        "outputId": "3d2cf811-e412-4c16-9a42-9016d58053fd"
      },
      "outputs": [
        {
          "output_type": "stream",
          "name": "stdout",
          "text": [
            "['B', 'D', 'A', 'C', 'E']\n"
          ]
        }
      ],
      "source": [
        " #la clase Individuo representa a un individuo de la población y tiene un atributo ruta que almacena la lista de ciudades.\n",
        " #La función __repr__ se utiliza para definir cómo se debe mostrar el individuo al imprimirlo.\n",
        "class Individuo:\n",
        "    def __init__(self, ruta):\n",
        "        self.ruta = ruta\n",
        "\n",
        "    def __repr__(self):\n",
        "        return str(self.ruta)\n",
        "\n",
        "# Ejemplo de uso\n",
        "ciudades = ['A', 'B', 'C', 'D', 'E']\n",
        "ruta_ejemplo = ['B', 'D', 'A', 'C', 'E']\n",
        "\n",
        "individuo = Individuo(ruta_ejemplo)\n",
        "print(individuo)"
      ]
    },
    {
      "cell_type": "code",
      "source": [
        "\n",
        "#Genera la población inicial con los argumentos de ciudades y tamaño de población\n",
        "def generar_poblacion_inicial(ciudades, tamano_poblacion):\n",
        "  # se inicializa como una lista vacía para almacenar los individuos de la población.\n",
        "    poblacion = []\n",
        "    #genera el número deseado de individuos.\n",
        "    for i  in range(tamano_poblacion):\n",
        "      #selecciona un orden aleatorio en el que el viajero visitará las ciudades.\n",
        "        ruta_aleatoria = random.sample(ciudades, len(ciudades))\n",
        "        individuo = Individuo(ruta_aleatoria)\n",
        "        poblacion.append(individuo)\n",
        "    return poblacion\n",
        "\n",
        "# Ejemplo de uso\n",
        "ciudades = ['A', 'B', 'C', 'D', 'E']\n",
        "tamano_poblacion = 10\n",
        "\n",
        "poblacion_inicial = generar_poblacion_inicial(ciudades, tamano_poblacion)\n",
        "for individuo in poblacion_inicial:\n",
        "    print(individuo)"
      ],
      "metadata": {
        "colab": {
          "base_uri": "https://localhost:8080/"
        },
        "id": "pw3MImDLm_6X",
        "outputId": "f182b154-6a79-49a6-d280-3cb14f621d89"
      },
      "execution_count": 9,
      "outputs": [
        {
          "output_type": "stream",
          "name": "stdout",
          "text": [
            "['E', 'D', 'B', 'A', 'C']\n",
            "['E', 'C', 'B', 'A', 'D']\n",
            "['B', 'A', 'E', 'D', 'C']\n",
            "['B', 'C', 'E', 'D', 'A']\n",
            "['C', 'A', 'E', 'D', 'B']\n",
            "['D', 'A', 'B', 'C', 'E']\n",
            "['A', 'B', 'C', 'D', 'E']\n",
            "['B', 'E', 'C', 'A', 'D']\n",
            "['C', 'E', 'D', 'B', 'A']\n",
            "['B', 'C', 'A', 'E', 'D']\n"
          ]
        }
      ]
    },
    {
      "cell_type": "code",
      "source": [
        "#la función recorre la ruta de la ciudad inicial a la ciudad siguiente, obteniendo la distancia entre cada par de ciudades consecutivas\n",
        "#del diccionario ciudades y acumulando las distancias. Esto permite calcular la distancia total recorrida en la ruta especificada.\n",
        "def calcular_distancia(ciudades, ruta):\n",
        "  #se inicializa como 0 para almacenar la suma acumulativa de las distancias.\n",
        "    distancia_total = 0\n",
        "    #itera sobre la longitud de la ruta menos 1 ya que se necesitan dos ciudades consecutivas para calcular la distancia entre ellas.\n",
        "    for i in range(len(ruta) - 1):\n",
        "        ciudad_actual = ruta[i]\n",
        "        siguiente_ciudad = ruta[i + 1]\n",
        "        distancia = ciudades[ciudad_actual][siguiente_ciudad]\n",
        "        distancia_total += distancia\n",
        "    return distancia_total\n",
        "#utiliza la distancia total recorrida por un individuo para calcular su aptitud. Una distancia menor conduce a una aptitud mayor,\n",
        "#lo que implica que las soluciones más cortas tienen una mayor probabilidad de ser seleccionadas en el proceso de evolución del algoritmo genético.\n",
        "\n",
        "def calcular_aptitud(individuo, ciudades):\n",
        "    distancia = calcular_distancia(ciudades, individuo.ruta)\n",
        "    aptitud = 1 / distancia  # Cuanto más corta la ruta, mayor aptitud\n",
        "    return aptitud\n",
        "\n",
        "#proporciona las distancias entre diferentes ciudades en forma de una matriz de adyacencia.\n",
        "ciudades = {\n",
        "    'A': {'A': 0, 'B': 5, 'C': 10, 'D': 8, 'E': 7},\n",
        "    'B': {'A': 5, 'B': 0, 'C': 6, 'D': 4, 'E': 3},\n",
        "    'C': {'A': 10, 'B': 6, 'C': 0, 'D': 2, 'E': 4},\n",
        "    'D': {'A': 8, 'B': 4, 'C': 2, 'D': 0, 'E': 6},\n",
        "    'E': {'A': 7, 'B': 3, 'C': 4, 'D': 6, 'E': 0}\n",
        "}\n",
        "\n",
        "ruta_ejemplo = ['A', 'B', 'C', 'D', 'E']\n",
        "individuo_ejemplo = Individuo(ruta_ejemplo)\n",
        "\n",
        "aptitud = calcular_aptitud(individuo_ejemplo, ciudades)\n",
        "print(\"Aptitud del individuo:\", aptitud)"
      ],
      "metadata": {
        "colab": {
          "base_uri": "https://localhost:8080/"
        },
        "id": "A3JwQ_nJohUZ",
        "outputId": "65df3c63-483d-481a-920d-8f55d0ab7ca7"
      },
      "execution_count": 3,
      "outputs": [
        {
          "output_type": "stream",
          "name": "stdout",
          "text": [
            "Aptitud del individuo: 0.05263157894736842\n"
          ]
        }
      ]
    },
    {
      "cell_type": "code",
      "source": [
        "import random\n",
        "\n",
        "\n",
        "def seleccion_ruleta(poblacion, num_padres):\n",
        "    aptitudes = [individuo.fitness for individuo in poblacion]\n",
        "    total_aptitudes = sum(aptitudes)\n",
        "    probabilidades = [aptitud / total_aptitudes for aptitud in aptitudes]\n",
        "    padres = random.choices(poblacion, weights=probabilidades, k=num_padres)\n",
        "    return padres\n",
        "\n",
        "# Ejemplo de uso\n",
        "poblacion_actual = [\n",
        "    Individuo([0, 1, 2, 3, 4]),\n",
        "    Individuo([4, 3, 2, 1, 0]),\n",
        "    Individuo([2, 1, 0, 4, 3]),\n",
        "    Individuo([3, 4, 1, 2, 0]),\n",
        "    Individuo([1, 2, 3, 0, 4])\n",
        "]\n",
        "\n",
        "# Asignar aptitudes de forma aleatoria para el ejemplo\n",
        "for individuo in poblacion_actual:\n",
        "    individuo.fitness = random.uniform(0, 1)\n",
        "\n",
        "num_padres = 2\n",
        "\n",
        "padres_seleccionados = seleccion_ruleta(poblacion_actual, num_padres)\n",
        "for padre in padres_seleccionados:\n",
        "    print(padre, \"Aptitud:\", padre.fitness)"
      ],
      "metadata": {
        "colab": {
          "base_uri": "https://localhost:8080/"
        },
        "id": "RDWxKuzAok2I",
        "outputId": "68c56196-1c23-4c28-8683-16d5add8d1d8"
      },
      "execution_count": 4,
      "outputs": [
        {
          "output_type": "stream",
          "name": "stdout",
          "text": [
            "[3, 4, 1, 2, 0] Aptitud: 0.693073857419984\n",
            "[0, 1, 2, 3, 4] Aptitud: 0.4756134598106937\n"
          ]
        }
      ]
    },
    {
      "cell_type": "code",
      "source": [
        "def cruce_en_un_punto(padre1, padre2):\n",
        "    punto_cruce = random.randint(1, len(padre1) - 1)\n",
        "    hijo1 = padre1[:punto_cruce] + padre2[punto_cruce:]\n",
        "    hijo2 = padre2[:punto_cruce] + padre1[punto_cruce:]\n",
        "    return hijo1, hijo2\n",
        "\n",
        "# Ejemplo de uso\n",
        "padre1 = [0, 1, 2, 3, 4]\n",
        "padre2 = [4, 3, 2, 1, 0]\n",
        "\n",
        "hijo1, hijo2 = cruce_en_un_punto(padre1, padre2)\n",
        "print(\"Padre 1:\", padre1)\n",
        "print(\"Padre 2:\", padre2)\n",
        "print(\"Hijo 1:\", hijo1)\n",
        "print(\"Hijo 2:\", hijo2)\n",
        "\n",
        "\n",
        "\n",
        "\n",
        "\n",
        "\n",
        "\n"
      ],
      "metadata": {
        "colab": {
          "base_uri": "https://localhost:8080/"
        },
        "id": "4r2RgnOipcPO",
        "outputId": "440f1930-9842-46bb-fdd4-615f581be979"
      },
      "execution_count": 5,
      "outputs": [
        {
          "output_type": "stream",
          "name": "stdout",
          "text": [
            "Padre 1: [0, 1, 2, 3, 4]\n",
            "Padre 2: [4, 3, 2, 1, 0]\n",
            "Hijo 1: [0, 3, 2, 1, 0]\n",
            "Hijo 2: [4, 1, 2, 3, 4]\n"
          ]
        }
      ]
    },
    {
      "cell_type": "code",
      "source": [
        "def mutacion_intercambio(individuo, probabilidad_mutacion):\n",
        "    ruta_mutada = individuo.ruta.copy()\n",
        "    for i in range(len(ruta_mutada)):\n",
        "        if random.random() < probabilidad_mutacion:\n",
        "            j = random.randint(0, len(ruta_mutada) - 1)\n",
        "            ruta_mutada[i], ruta_mutada[j] = ruta_mutada[j], ruta_mutada[i]\n",
        "    individuo_mutado = Individuo(ruta_mutada)\n",
        "    return individuo_mutado\n",
        "\n",
        "# Ejemplo de uso\n",
        "individuo = Individuo([0, 1, 2, 3, 4])\n",
        "probabilidad_mutacion = 0.9\n",
        "\n",
        "individuo_mutado = mutacion_intercambio(individuo, probabilidad_mutacion)\n",
        "print(\"Individuo original:\", individuo)\n",
        "print(\"Individuo mutado:\", individuo_mutado)"
      ],
      "metadata": {
        "colab": {
          "base_uri": "https://localhost:8080/"
        },
        "id": "MVVsV0CNqCBz",
        "outputId": "12321bef-6266-4d7c-e166-87bce2f49f57"
      },
      "execution_count": 21,
      "outputs": [
        {
          "output_type": "stream",
          "name": "stdout",
          "text": [
            "Individuo original: [0, 1, 2, 3, 4]\n",
            "Individuo mutado: [1, 0, 2, 4, 3]\n"
          ]
        }
      ]
    },
    {
      "cell_type": "code",
      "source": [
        "\n",
        "def reemplazar_poblacion(poblacion_actual, nueva_generacion):\n",
        "    poblacion_actual.extend(nueva_generacion)\n",
        "    poblacion_actual.sort(key=lambda individuo: padre.fitness, reverse=True)\n",
        "    poblacion_actual = poblacion_actual[:len(nueva_generacion)]\n",
        "    return poblacion_actual\n",
        "\n",
        "# Ejemplo de uso\n",
        "poblacion_actual = [\n",
        "    Individuo([0, 1, 2, 3, 4]),\n",
        "    Individuo([4, 3, 2, 1, 0]),\n",
        "    Individuo([2, 1, 0, 4, 3]),\n",
        "    Individuo([3, 4, 1, 2, 0]),\n",
        "    Individuo([1, 2, 3, 0, 4])\n",
        "]\n",
        "\n",
        "nueva_generacion = [\n",
        "    Individuo([4, 0, 3, 2, 1]),\n",
        "    Individuo([0, 1, 2, 3, 4]),\n",
        "    Individuo([2, 3, 1, 4, 0]),\n",
        "    Individuo([1, 4, 3, 2, 0]),\n",
        "    Individuo([3, 2, 0, 1, 4])\n",
        "]\n",
        "\n",
        "poblacion_actual = reemplazar_poblacion(poblacion_actual, nueva_generacion)\n",
        "for individuo in poblacion_actual:\n",
        "    print(individuo)"
      ],
      "metadata": {
        "colab": {
          "base_uri": "https://localhost:8080/"
        },
        "id": "8VQZ5R9YqXlg",
        "outputId": "dad787fc-c73c-41d8-e897-ba2e2a9ff31c"
      },
      "execution_count": 7,
      "outputs": [
        {
          "output_type": "stream",
          "name": "stdout",
          "text": [
            "[0, 1, 2, 3, 4]\n",
            "[4, 3, 2, 1, 0]\n",
            "[2, 1, 0, 4, 3]\n",
            "[3, 4, 1, 2, 0]\n",
            "[1, 2, 3, 0, 4]\n"
          ]
        }
      ]
    },
    {
      "cell_type": "code",
      "source": [
        "\n",
        "def calcular_aptitud(individuo, ciudades):\n",
        "    distancia = calcular_distancia(ciudades, individuo.ruta)\n",
        "    aptitud = 1 / distancia  # Cuanto más corta la ruta, mayor aptitud\n",
        "    return aptitud\n",
        "def algoritmo_genetico(poblacion_inicial, num_generaciones, calidad_deseada):\n",
        "    poblacion_actual = poblacion_inicial\n",
        "\n",
        "    for generacion in range(num_generaciones):\n",
        "        # Calcular aptitud de la población actual\n",
        "        for individuo in poblacion_actual:\n",
        "            individuo.fitness = random.uniform(0, 1)\n",
        "\n",
        "            num_padres = 2\n",
        "\n",
        "        # Verificar condición de parada\n",
        "        mejor_aptitud = max(individuo.fitness for individuo in poblacion_actual)\n",
        "        if mejor_aptitud >= calidad_deseada:\n",
        "            break\n",
        "\n",
        "        # Otros pasos del algoritmo genético: selección, cruce, mutación, reemplazo...\n",
        "\n",
        "    return poblacion_actual\n",
        "\n",
        "# Ejemplo de uso\n",
        "poblacion_inicial = [\n",
        "    Individuo([0, 1, 2, 3, 4]),\n",
        "    Individuo([4, 3, 2, 1, 0]),\n",
        "    Individuo([2, 1, 0, 4, 3]),\n",
        "    Individuo([3, 4, 1, 2, 0]),\n",
        "    Individuo([1, 2, 3, 0, 4])\n",
        "]\n",
        "\n",
        "num_generaciones = 200\n",
        "calidad_deseada = 0.09\n",
        "\n",
        "poblacion_final = algoritmo_genetico(poblacion_inicial, num_generaciones, calidad_deseada)\n",
        "for individuo in poblacion_final:\n",
        "    print(individuo, \"Aptitud:\", padre.fitness)"
      ],
      "metadata": {
        "colab": {
          "base_uri": "https://localhost:8080/"
        },
        "id": "iMeGy34frV5d",
        "outputId": "f5d0016a-1368-4979-fda9-f7f285d53bef"
      },
      "execution_count": 19,
      "outputs": [
        {
          "output_type": "stream",
          "name": "stdout",
          "text": [
            "[0, 1, 2, 3, 4] Aptitud: 0.4756134598106937\n",
            "[4, 3, 2, 1, 0] Aptitud: 0.4756134598106937\n",
            "[2, 1, 0, 4, 3] Aptitud: 0.4756134598106937\n",
            "[3, 4, 1, 2, 0] Aptitud: 0.4756134598106937\n",
            "[1, 2, 3, 0, 4] Aptitud: 0.4756134598106937\n"
          ]
        }
      ]
    }
  ]
}