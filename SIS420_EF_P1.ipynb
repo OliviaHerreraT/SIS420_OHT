{
  "nbformat": 4,
  "nbformat_minor": 0,
  "metadata": {
    "colab": {
      "provenance": []
    },
    "kernelspec": {
      "name": "python3",
      "display_name": "Python 3"
    },
    "language_info": {
      "name": "python"
    }
  },
  "cells": [
    {
      "cell_type": "code",
      "execution_count": 20,
      "metadata": {
        "colab": {
          "base_uri": "https://localhost:8080/"
        },
        "id": "cfLC5yzymZNq",
        "outputId": "83b3982c-21f7-4316-8efd-919837fa4ffe"
      },
      "outputs": [
        {
          "output_type": "stream",
          "name": "stdout",
          "text": [
            "['B', 'D', 'A', 'C', 'E']\n"
          ]
        }
      ],
      "source": [
        "#https://github.com/OliviaHerreraT/SIS420_OHT\n",
        " #la clase Individuo representa a un individuo de la población y tiene un atributo ruta que almacena la lista de ciudades.\n",
        " #La función __repr__ se utiliza para definir cómo se debe mostrar el individuo al imprimirlo.\n",
        "class Individuo:\n",
        "    def __init__(self, ruta):\n",
        "        self.ruta = ruta\n",
        "\n",
        "    def __repr__(self):\n",
        "        return str(self.ruta)\n",
        "\n",
        "# Ejemplo de uso\n",
        "ciudades = ['A', 'B', 'C', 'D', 'E']\n",
        "ruta_ejemplo = ['B', 'D', 'A', 'C', 'E']\n",
        "\n",
        "individuo = Individuo(ruta_ejemplo)\n",
        "print(individuo)"
      ]
    },
    {
      "cell_type": "code",
      "source": [
        "import random\n",
        "#Genera la población inicial con los argumentos de ciudades y tamaño de población\n",
        "def generar_poblacion_inicial(ciudades, tamano_poblacion):\n",
        "  # se inicializa como una lista vacía para almacenar los individuos de la población.\n",
        "    poblacion = []\n",
        "    #genera el número deseado de individuos.\n",
        "    for i in range(tamano_poblacion):\n",
        "      #selecciona un orden aleatorio en el que el viajero visitará las ciudades.\n",
        "        ruta_aleatoria = random.sample(ciudades, len(ciudades))\n",
        "        individuo = Individuo(ruta_aleatoria)\n",
        "        poblacion.append(individuo)\n",
        "    return poblacion\n",
        "\n",
        "# Ejemplo de uso\n",
        "ciudades = ['A', 'B', 'C', 'D', 'E']\n",
        "tamano_poblacion = 10\n",
        "\n",
        "poblacion_inicial = generar_poblacion_inicial(ciudades, tamano_poblacion)\n",
        "for individuo in poblacion_inicial:\n",
        "    print(individuo)"
      ],
      "metadata": {
        "colab": {
          "base_uri": "https://localhost:8080/"
        },
        "id": "pw3MImDLm_6X",
        "outputId": "043be5e6-1c72-4b4a-9a94-236e2abbf867"
      },
      "execution_count": 21,
      "outputs": [
        {
          "output_type": "stream",
          "name": "stdout",
          "text": [
            "['C', 'D', 'A', 'B', 'E']\n",
            "['A', 'D', 'B', 'C', 'E']\n",
            "['E', 'D', 'C', 'B', 'A']\n",
            "['D', 'E', 'B', 'C', 'A']\n",
            "['B', 'D', 'C', 'E', 'A']\n",
            "['C', 'D', 'E', 'B', 'A']\n",
            "['B', 'C', 'A', 'D', 'E']\n",
            "['B', 'C', 'D', 'E', 'A']\n",
            "['B', 'A', 'D', 'C', 'E']\n",
            "['A', 'E', 'B', 'D', 'C']\n"
          ]
        }
      ]
    },
    {
      "cell_type": "code",
      "source": [
        "#la función recorre la ruta de la ciudad inicial a la ciudad siguiente, obteniendo la distancia entre cada par de ciudades consecutivas\n",
        "#del diccionario ciudades y acumulando las distancias. Esto permite calcular la distancia total recorrida en la ruta especificada.\n",
        "def calcular_distancia(ciudades, ruta):\n",
        "  #se inicializa como 0 para almacenar la suma acumulativa de las distancias.\n",
        "    distancia_total = 0\n",
        "    #itera sobre la longitud de la ruta menos 1 ya que se necesitan dos ciudades consecutivas para calcular la distancia entre ellas.\n",
        "    for i in range(len(ruta) - 1):\n",
        "        ciudad_actual = ruta[i]\n",
        "        siguiente_ciudad = ruta[i + 1]\n",
        "        distancia = ciudades[ciudad_actual][siguiente_ciudad]\n",
        "        distancia_total += distancia\n",
        "    return distancia_total\n",
        "#utiliza la distancia total recorrida por un individuo para calcular su aptitud. Una distancia menor conduce a una aptitud mayor,\n",
        "#lo que implica que las soluciones más cortas tienen una mayor probabilidad de ser seleccionadas en el proceso de evolución del algoritmo genético.\n",
        "\n",
        "def calcular_aptitud(individuo, ciudades):\n",
        "    distancia = calcular_distancia(ciudades, individuo.ruta)\n",
        "    aptitud = 1 / distancia  # Cuanto más corta la ruta, mayor aptitud\n",
        "    return aptitud\n",
        "\n",
        "#proporciona las distancias entre diferentes ciudades en forma de una matriz de adyacencia.\n",
        "ciudades = {\n",
        "    'A': {'A': 0, 'B': 5, 'C': 10, 'D': 8, 'E': 7},\n",
        "    'B': {'A': 5, 'B': 0, 'C': 6, 'D': 4, 'E': 3},\n",
        "    'C': {'A': 10, 'B': 6, 'C': 0, 'D': 2, 'E': 4},\n",
        "    'D': {'A': 8, 'B': 4, 'C': 2, 'D': 0, 'E': 6},\n",
        "    'E': {'A': 7, 'B': 3, 'C': 4, 'D': 6, 'E': 0}\n",
        "}\n",
        "\n",
        "ruta_ejemplo = ['A', 'B', 'C', 'D', 'E']\n",
        "individuo_ejemplo = Individuo(ruta_ejemplo)\n",
        "\n",
        "aptitud = calcular_aptitud(individuo_ejemplo, ciudades)\n",
        "print(\"Aptitud del individuo:\", aptitud)"
      ],
      "metadata": {
        "colab": {
          "base_uri": "https://localhost:8080/"
        },
        "id": "A3JwQ_nJohUZ",
        "outputId": "3586374d-cb0e-4357-d1a1-879b8701dd40"
      },
      "execution_count": 22,
      "outputs": [
        {
          "output_type": "stream",
          "name": "stdout",
          "text": [
            "Aptitud del individuo: 0.05263157894736842\n"
          ]
        }
      ]
    },
    {
      "cell_type": "code",
      "source": [
        "import random\n",
        "\n",
        "# selecciona un número determinado de padres de una población.\n",
        "def seleccion_ruleta(poblacion, num_padres):\n",
        "#Se calcula la aptitud de cada individuo en la población y se almacenan en una lista llamada aptitudes.\n",
        "    aptitudes = [individuo.fitness for individuo in poblacion]\n",
        "    total_aptitudes = sum(aptitudes)\n",
        "    probabilidades = [aptitud / total_aptitudes for aptitud in aptitudes]\n",
        "#Se utilizan las probabilidades como pesos en la función random.choices para seleccionar num_padres individuos de la población.\n",
        "#La función devuelve una lista de padres seleccionados llamada padres.\n",
        "    padres = random.choices(poblacion, weights=probabilidades, k=num_padres)\n",
        "    return padres\n",
        "\n",
        "# Ejemplo de uso\n",
        "poblacion_actual = [\n",
        "    Individuo([0, 1, 2, 3, 4]),\n",
        "    Individuo([4, 3, 2, 1, 0]),\n",
        "    Individuo([2, 1, 0, 4, 3]),\n",
        "    Individuo([3, 4, 1, 2, 0]),\n",
        "    Individuo([1, 2, 3, 0, 4])\n",
        "]\n",
        "\n",
        "# Asignar aptitudes de forma aleatoria para el ejemplo\n",
        "for individuo in poblacion_actual:\n",
        "    individuo.fitness = random.uniform(0, 1)\n",
        "\n",
        "num_padres = 4\n",
        "\n",
        "padres_seleccionados = seleccion_ruleta(poblacion_actual, num_padres)\n",
        "for padre in padres_seleccionados:\n",
        "    print(padre, \"Aptitud:\", padre.fitness)"
      ],
      "metadata": {
        "colab": {
          "base_uri": "https://localhost:8080/"
        },
        "id": "RDWxKuzAok2I",
        "outputId": "c055a0cb-7e32-40cd-ffd2-d82d62ca5aa2"
      },
      "execution_count": 23,
      "outputs": [
        {
          "output_type": "stream",
          "name": "stdout",
          "text": [
            "[0, 1, 2, 3, 4] Aptitud: 0.5765823329448442\n",
            "[4, 3, 2, 1, 0] Aptitud: 0.9081950280522344\n",
            "[4, 3, 2, 1, 0] Aptitud: 0.9081950280522344\n",
            "[4, 3, 2, 1, 0] Aptitud: 0.9081950280522344\n"
          ]
        }
      ]
    },
    {
      "cell_type": "code",
      "source": [
        "#Se elige aleatoriamente un punto de cruce entre 1 y la longitud de los padres menos 1.\n",
        "#Este punto de cruce determina la posición en la cual se dividirán los cromosomas de los padres.\n",
        "def cruce_en_un_punto(padre1, padre2):\n",
        "    punto_cruce = random.randint(1, len(padre1) - 1)\n",
        "    hijo1 = padre1[:punto_cruce] + padre2[punto_cruce:]\n",
        "    hijo2 = padre2[:punto_cruce] + padre1[punto_cruce:]\n",
        "    return hijo1, hijo2\n",
        "\n",
        "# Se genera el primer hijo combinando la parte del padre1 antes del punto de cruce y la parte del padre2 después del punto de cruce.\n",
        "padre1 = [0, 1, 2, 3, 4]\n",
        "padre2 = [4, 3, 2, 1, 0]\n",
        "\n",
        "hijo1, hijo2 = cruce_en_un_punto(padre1, padre2)\n",
        "print(\"Padre 1:\", padre1)\n",
        "print(\"Padre 2:\", padre2)\n",
        "print(\"Hijo 1:\", hijo1)\n",
        "print(\"Hijo 2:\", hijo2)\n",
        "\n",
        "\n",
        "\n",
        "\n",
        "\n",
        "\n",
        "\n"
      ],
      "metadata": {
        "colab": {
          "base_uri": "https://localhost:8080/"
        },
        "id": "4r2RgnOipcPO",
        "outputId": "ad415014-d4c2-42e8-b67a-7a3ae39edfa7"
      },
      "execution_count": 24,
      "outputs": [
        {
          "output_type": "stream",
          "name": "stdout",
          "text": [
            "Padre 1: [0, 1, 2, 3, 4]\n",
            "Padre 2: [4, 3, 2, 1, 0]\n",
            "Hijo 1: [0, 1, 2, 1, 0]\n",
            "Hijo 2: [4, 3, 2, 3, 4]\n"
          ]
        }
      ]
    },
    {
      "cell_type": "code",
      "source": [
        "\n",
        "def mutacion_intercambio(individuo, probabilidad_mutacion):\n",
        "  #Se realiza una copia de la ruta del individuo original para evitar modificarlo directamente.\n",
        "    ruta_mutada = individuo.ruta.copy()\n",
        "  #Se itera sobre cada posición en la ruta del individuo.\n",
        "    for i in range(len(ruta_mutada)):\n",
        "  #Para cada posición, se genera un número aleatorio entre 0 y 1. Si ese número es menor que la probabilidad de mutación, se procede a realizar el intercambio.\n",
        "        if random.random() < probabilidad_mutacion:\n",
        "            j = random.randint(0, len(ruta_mutada) - 1)\n",
        "            ruta_mutada[i], ruta_mutada[j] = ruta_mutada[j], ruta_mutada[i]\n",
        "  #Se crea un nuevo individuo mutado utilizando la ruta modificada y se devuelve.\n",
        "    individuo_mutado = Individuo(ruta_mutada)\n",
        "    return individuo_mutado\n",
        "\n",
        "# Ejemplo de uso\n",
        "individuo = Individuo([0, 1, 2, 3, 4])\n",
        "probabilidad_mutacion = 0.9\n",
        "\n",
        "individuo_mutado = mutacion_intercambio(individuo, probabilidad_mutacion)\n",
        "print(\"Individuo original:\", individuo)\n",
        "print(\"Individuo mutado:\", individuo_mutado)"
      ],
      "metadata": {
        "colab": {
          "base_uri": "https://localhost:8080/"
        },
        "id": "MVVsV0CNqCBz",
        "outputId": "ad968250-9f1b-47bb-9367-108740dab539"
      },
      "execution_count": 25,
      "outputs": [
        {
          "output_type": "stream",
          "name": "stdout",
          "text": [
            "Individuo original: [0, 1, 2, 3, 4]\n",
            "Individuo mutado: [3, 4, 0, 2, 1]\n"
          ]
        }
      ]
    },
    {
      "cell_type": "code",
      "source": [
        "\n",
        "def reemplazar_poblacion(poblacion_actual, nueva_generacion):\n",
        "#Se añaden los individuos de la nueva generación a la población actual utilizando el método extend.\n",
        "    poblacion_actual.extend(nueva_generacion)\n",
        "#Se ordena la población actual en base a la aptitud de los individuos, de mayor a menor, utilizando el argumento key y la función lambda lambda individuo: individuo.fitness.\n",
        "    poblacion_actual.sort(key=lambda individuo: padre.fitness, reverse=True)\n",
        "#Se corta la población actual para que tenga la misma cantidad de individuos que la nueva generación, utilizando la longitud de la nueva generación con la expresión [:len(nueva_generacion)].\n",
        "    poblacion_actual = poblacion_actual[:len(nueva_generacion)]\n",
        "    return poblacion_actual\n",
        "\n",
        "# Ejemplo de uso\n",
        "poblacion_actual = [\n",
        "    Individuo([0, 1, 2, 3, 4]),\n",
        "    Individuo([4, 3, 2, 1, 0]),\n",
        "    Individuo([2, 1, 0, 4, 3]),\n",
        "    Individuo([3, 4, 1, 2, 0]),\n",
        "    Individuo([1, 2, 3, 0, 4])\n",
        "]\n",
        "\n",
        "nueva_generacion = [\n",
        "    Individuo([4, 0, 3, 2, 1]),\n",
        "    Individuo([0, 1, 2, 3, 4]),\n",
        "    Individuo([2, 3, 1, 4, 0]),\n",
        "    Individuo([1, 4, 3, 2, 0]),\n",
        "    Individuo([3, 2, 0, 1, 4])\n",
        "]\n",
        "\n",
        "poblacion_actual = reemplazar_poblacion(poblacion_actual, nueva_generacion)\n",
        "for individuo in poblacion_actual:\n",
        "    print(individuo)"
      ],
      "metadata": {
        "colab": {
          "base_uri": "https://localhost:8080/"
        },
        "id": "8VQZ5R9YqXlg",
        "outputId": "d8fcd67a-2dff-4ebf-cd4e-ffd617853a0f"
      },
      "execution_count": 26,
      "outputs": [
        {
          "output_type": "stream",
          "name": "stdout",
          "text": [
            "[0, 1, 2, 3, 4]\n",
            "[4, 3, 2, 1, 0]\n",
            "[2, 1, 0, 4, 3]\n",
            "[3, 4, 1, 2, 0]\n",
            "[1, 2, 3, 0, 4]\n"
          ]
        }
      ]
    },
    {
      "cell_type": "code",
      "source": [
        "\n",
        "def calcular_aptitud(individuo, ciudades):\n",
        "    distancia = calcular_distancia(ciudades, individuo.ruta)\n",
        "    aptitud = 1 / distancia  # Cuanto más corta la ruta, mayor aptitud\n",
        "    return aptitud\n",
        "def algoritmo_genetico(poblacion_inicial, num_generaciones, calidad_deseada):\n",
        "    poblacion_actual = poblacion_inicial\n",
        "\n",
        "    for generacion in range(num_generaciones):\n",
        "        # Calcular aptitud de la población actual\n",
        "        for individuo in poblacion_actual:\n",
        "            individuo.fitness = random.uniform(0, 1)\n",
        "\n",
        "            num_padres = 2\n",
        "\n",
        "        # Verificar condición de parada\n",
        "        mejor_aptitud = max(individuo.fitness for individuo in poblacion_actual)\n",
        "        if mejor_aptitud >= calidad_deseada:\n",
        "            break\n",
        "\n",
        "        # Otros pasos del algoritmo genético: selección, cruce, mutación, reemplazo...\n",
        "\n",
        "    return poblacion_actual\n",
        "\n",
        "# Ejemplo de uso\n",
        "poblacion_inicial = [\n",
        "    Individuo([0, 1, 2, 3, 4]),\n",
        "    Individuo([4, 3, 2, 1, 0]),\n",
        "    Individuo([2, 1, 0, 4, 3]),\n",
        "    Individuo([3, 4, 1, 2, 0]),\n",
        "    Individuo([1, 2, 3, 0, 4])\n",
        "]\n",
        "\n",
        "num_generaciones = 200\n",
        "calidad_deseada = 0.09\n",
        "\n",
        "poblacion_final = algoritmo_genetico(poblacion_inicial, num_generaciones, calidad_deseada)\n",
        "for individuo in poblacion_final:\n",
        "    print(individuo, \"Aptitud:\", padre.fitness)"
      ],
      "metadata": {
        "colab": {
          "base_uri": "https://localhost:8080/"
        },
        "id": "iMeGy34frV5d",
        "outputId": "79de2e3b-38fa-4423-e6b0-f29aacaeabaf"
      },
      "execution_count": 27,
      "outputs": [
        {
          "output_type": "stream",
          "name": "stdout",
          "text": [
            "[0, 1, 2, 3, 4] Aptitud: 0.9081950280522344\n",
            "[4, 3, 2, 1, 0] Aptitud: 0.9081950280522344\n",
            "[2, 1, 0, 4, 3] Aptitud: 0.9081950280522344\n",
            "[3, 4, 1, 2, 0] Aptitud: 0.9081950280522344\n",
            "[1, 2, 3, 0, 4] Aptitud: 0.9081950280522344\n"
          ]
        }
      ]
    }
  ]
}