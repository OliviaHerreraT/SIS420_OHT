{
  "cells": [
    {
      "cell_type": "markdown",
      "metadata": {
        "id": "fxYd72KmVn8x"
      },
      "source": [
        "# Ejercicio de programación Regresión Lineal Multiple"
      ]
    },
    {
      "cell_type": "code",
      "execution_count": 71,
      "metadata": {
        "id": "-NQwq_hsVn80"
      },
      "outputs": [],
      "source": [
        "# utilizado para manejos de directorios y rutas\n",
        "import os\n",
        "\n",
        "# Computacion vectorial y cientifica para python\n",
        "import numpy as np\n",
        "\n",
        "# Librerias para graficación (trazado de gráficos)\n",
        "from matplotlib import pyplot\n",
        "from mpl_toolkits.mplot3d import Axes3D  # Necesario para graficar superficies 3D\n",
        "\n",
        "# llama a matplotlib a embeber graficas dentro de los cuadernillos\n",
        "%matplotlib inline"
      ]
    },
    {
      "cell_type": "markdown",
      "metadata": {
        "id": "dl4y9LL2Vn81"
      },
      "source": [
        "## 2 Regresión lineal con multiples variables\n",
        "\n",
        "Se implementa la regresion lineal multivariable para predecir el precio de las casas. El archivo `Datasets/ex1data2.txt` contiene un conjunto de entrenamiento de precios de casas en Portland, Oregon. La primera columna es el tamaño de la casa en metros cuadrados, la segunda columna es el numero de cuartos, y la tercera columna es el precio de la casa. \n",
        "\n",
        "<a id=\"section4\"></a>\n",
        "### 2.1 Normalización de caracteristicas\n",
        "\n",
        "Al visualizar los datos se puede observar que las caracteristicas tienen diferentes magnitudes, por lo cual se debe transformar cada valor en una escala de valores similares, esto con el fin de que el descenso por el gradiente pueda converger mas rapidamente."
      ]
    },
    {
      "cell_type": "code",
      "execution_count": 72,
      "metadata": {
        "id": "qNkVpYQAYmps"
      },
      "outputs": [],
      "source": [
        "import pandas  as pd\n",
        "#Se crea una función para colocar el nombre de la ruta del archivo.csv, para modificar columnas y eliminar columnas\n",
        "def csvAdapted(path, modifyColumns, dropColumns) :\n",
        "    data= pd.read_csv(path, encoding= 'latin-1')\n",
        "    columns = data.columns\n",
        "\n",
        "    for index in modifyColumns:\n",
        "        name = columns[index]\n",
        "        value= list(data[name].unique() )\n",
        "        data[name] = data[name].map(dict( zip(value, [i for i in range( len(value) ) ] ) ) )\n",
        "    data = data.drop([columns[index] for index in dropColumns ], axis=1)\n",
        "\n",
        "    print(\"Cantidad de datos de datos anteriores :\",len(data))\n",
        "    #print(data.head())\n",
        "    return data\n",
        "\n",
        "\n",
        "    #return data.to_numpy()\n",
        "   \n",
        "##data = csvAdapted(\"/content/graduation_rate.csv\", [i for i in range(0,7)if not i in [0,1,3,4,5,6]], [2])\n",
        "#data = csvAdapted(\"Boston-house-price-data.csv\", [i for i in range(0, 13) if not i in [0,1,2,3,4,5,6,7,8,9,10,11,12,13] ],[])\n"
      ]
    },
    {
      "cell_type": "code",
      "execution_count": 73,
      "metadata": {
        "id": "Ox20YLr7P68F",
        "colab": {
          "base_uri": "https://localhost:8080/"
        },
        "outputId": "fe964f60-3c13-40fd-cd7a-d04a77f8821d"
      },
      "outputs": [
        {
          "output_type": "stream",
          "name": "stdout",
          "text": [
            "Cantidad de datos de datos anteriores : 506\n",
            "cantidad actual 10506\n"
          ]
        }
      ],
      "source": [
        "def DatosSinteticos(data):\n",
        "  #Cantidad de filas que se desea aumentar en el dataset\n",
        "    n_filas = 10000\n",
        "    #Se crea como una matriz vacía con dimensiones [n_filas, len(data.columns)], donde len(data.columns)representa el número de columnas en el DataFrame de entrada.\n",
        "    nuevos_datos = np.empty([n_filas, len(data.columns)])\n",
        "    #Itera sobre cada columna del DataFrame de entrada. Para cada columna, recupera los datos de esa columna usando data.iloc[:, i]. \n",
        "    #Luego genera n_filas de muestras aleatorias de la columna que se usa np.random.choicecon reemplazando el mismo valor puede \n",
        "    #aparecer varias veces en los datos sintéticos. Estas muestras se almacenan en muestras_i, y luego se asignan a la columna correspondiente de nuevos_datos.\n",
        "    for i in range(len(data.columns)):\n",
        "        columna_i = data.iloc[:, i]\n",
        "        muestras_i = np.random.choice(columna_i, n_filas, replace=True)\n",
        "        nuevos_datos[:, i] = muestras_i\n",
        "\n",
        "    # Crear un DataFrame con los nuevos datos sintéticos\n",
        "    columnas = list(data.columns)\n",
        "    nuevos_datos_df = pd.DataFrame(nuevos_datos, columns=columnas)\n",
        "\n",
        "    # Concatena los datos existentes con los nuevos datos sintéticos\n",
        "    dataExtend = pd.concat([data, nuevos_datos_df], axis=0)\n",
        "    print(\"cantidad actual\",len(dataExtend))\n",
        "    return dataExtend.to_numpy()\n",
        "    \n",
        "data = csvAdapted(\"/content/Boston-house-price-data.csv\", [i for i in range(0, 13) if not i in [0,1,2,3,4,5,6,7,8,9,10,11,12,13] ], [])\n",
        "data = DatosSinteticos(data)\n",
        " #data.size\n",
        "  "
      ]
    },
    {
      "cell_type": "code",
      "execution_count": 74,
      "metadata": {
        "id": "IzvXlXHMVn81"
      },
      "outputs": [],
      "source": [
        "# Cargar datos\n",
        "# data = np.loadtxt(os.path.join('Datasets', 'ex1data2.txt'), delimiter=',')\n",
        "# data = np.loadtxt('graduation_rate.csv', delimiter=',')\n",
        "X = data[:, :13]\n",
        "y = data[:, 13]\n",
        "m = y.size\n",
        "\n",
        "# imprimir algunos puntos de datos\n",
        "#print('{:>8s}{:>8s}{:>10s}'.format('X[:,0]', 'X[:, 1]', 'y'))\n",
        "#print('-'*26)\n",
        "#for i in range(10):\n",
        " #   print('{:8.0f}{:8.0f}{:10.0f}'.format(X[i, 0], X[i, 1], y[i]))"
      ]
    },
    {
      "cell_type": "markdown",
      "metadata": {
        "id": "pP-oF-Y8W3zp"
      },
      "source": [
        "## 2 Regresión lineal con multiples variables\n",
        "\n",
        "Se implementa la regresion lineal multivariable para predecir el precio de las casas. El archivo `Datasets/ex1data2.txt` contiene un conjunto de entrenamiento de precios de casas en Portland, Oregon. La primera columna es el tamaño de la casa en metros cuadrados, la segunda columna es el numero de cuartos, y la tercera columna es el precio de la casa. \n",
        "\n",
        "<a id=\"section4\"></a>\n",
        "### 2.1 Normalización de caracteristicas\n",
        "\n",
        "Al visualizar los datos se puede observar que las caracteristicas tienen diferentes magnitudes, por lo cual se debe transformar cada valor en una escala de valores similares, esto con el fin de que el descenso por el gradiente pueda converger mas rapidamente."
      ]
    },
    {
      "cell_type": "markdown",
      "metadata": {
        "id": "Lr8JRNkyVn82"
      },
      "source": [
        "La desviación estándar es una forma de medir cuánta variación hay en el rango de valores de una característica en particular (la mayoría de los puntos caeran en un rango de ± 2 en relación a la desviaciones estándar de la media); esta es una alternativa a tomar el rango de valores (max-min). En `numpy`, se puede usar la función `std` para calcular la desviacion estandar. \n",
        "\n",
        "Por ejemplo, la caracteristica`X[:, 0]` contiene todos los valores de $x_1$ (tamaño de las casas) en el conjunto de entrenamiento, entonces `np.std(X[:, 0])` calcula la desviacion estandar de los tamaños de las casas.\n",
        "En el momento en que se llama a la función `featureNormalize`, la columna adicional de unos correspondiente a $ x_0 = 1 $ aún no se ha agregado a $ X $. \n",
        "\n",
        "<div class=\"alert alert-block alert-warning\">\n",
        "**Notas para la implementación:** Cuando se normalize una caracteristica, es importante almacenar los valores usados para la normalización - el valor de la media y el valor de la desviación estandar usado para los calculos. Despues de aprender los parametros del modelo, se deseara predecir los precios de casas que no se han visto antes. Dado un nuevo valor de x (area del living room y el numero de dormitorios), primero se debe normalizar x usando la media y la desviacion estandar que se empleo anteriormente en el conjunto de entrenamiento para entrenar el modelo.\n",
        "</div>\n",
        "<a id=\"featureNormalize\"></a>"
      ]
    },
    {
      "cell_type": "code",
      "execution_count": 75,
      "metadata": {
        "id": "dgT4rR9iVn82"
      },
      "outputs": [],
      "source": [
        "def  featureNormalize(X):\n",
        "    X_norm = X.copy()\n",
        "    mu = np.zeros(X.shape[1])\n",
        "    sigma = np.zeros(X.shape[1])\n",
        "\n",
        "    mu = np.mean(X, axis = 0)\n",
        "    sigma = np.std(X, axis = 0)\n",
        "    X_norm = (X - mu) / sigma\n",
        "    \n",
        "    return X_norm, mu, sigma"
      ]
    },
    {
      "cell_type": "code",
      "execution_count": 76,
      "metadata": {
        "id": "MfiaMoWEVn82",
        "colab": {
          "base_uri": "https://localhost:8080/"
        },
        "outputId": "1ed84707-b510-4ada-fef7-1e9c31b739cc"
      },
      "outputs": [
        {
          "output_type": "stream",
          "name": "stdout",
          "text": [
            "[[6.32000e-03 1.80000e+01 2.31000e+00 ... 1.53000e+01 3.96900e+02\n",
            "  4.98000e+00]\n",
            " [2.73100e-02 0.00000e+00 7.07000e+00 ... 1.78000e+01 3.96900e+02\n",
            "  9.14000e+00]\n",
            " [2.72900e-02 0.00000e+00 7.07000e+00 ... 1.78000e+01 3.92830e+02\n",
            "  4.03000e+00]\n",
            " ...\n",
            " [7.61620e-01 0.00000e+00 1.81000e+01 ... 1.52000e+01 3.89710e+02\n",
            "  8.10000e+00]\n",
            " [2.81838e+00 8.00000e+01 1.38900e+01 ... 1.91000e+01 2.91550e+02\n",
            "  1.02100e+01]\n",
            " [1.43200e-02 9.00000e+01 5.19000e+00 ... 1.96000e+01 3.96900e+02\n",
            "  7.54000e+00]]\n",
            "Media calculada: [3.65855208e+00 1.15923758e+01 1.11606958e+01 6.54863887e-02\n",
            " 5.56427965e-01 6.26563402e+00 6.83827813e+01 3.80468208e+00\n",
            " 9.46363982e+00 4.08370074e+02 1.84765182e+01 3.57293609e+02\n",
            " 1.26499372e+01]\n",
            "Desviación estandar calculada: [8.49664152e+00 2.36857130e+01 6.80752921e+00 2.47382137e-01\n",
            " 1.16405126e-01 6.97171389e-01 2.79496664e+01 2.10895952e+00\n",
            " 8.67551027e+00 1.67812698e+02 2.13824014e+00 9.00452556e+01\n",
            " 7.15247665e+00]\n",
            "[[-0.4298442   0.27052697 -1.30013336 ... -1.48557597  0.43984983\n",
            "  -1.07234704]\n",
            " [-0.42737381 -0.48942482 -0.60090756 ... -0.31639018  0.43984983\n",
            "  -0.49073032]\n",
            " [-0.42737617 -0.48942482 -0.60090756 ... -0.31639018  0.39465034\n",
            "  -1.20516817]\n",
            " ...\n",
            " [-0.34095025 -0.48942482  1.01935724 ... -1.5323434   0.3600011\n",
            "  -0.6361345 ]\n",
            " [-0.09888284  2.88813869  0.40092435 ...  0.29158643 -0.73011742\n",
            "  -0.34113179]\n",
            " [-0.42890265  3.31033413 -0.87707237 ...  0.52542359  0.43984983\n",
            "  -0.71442906]]\n"
          ]
        }
      ],
      "source": [
        "# llama featureNormalize con los datos cargados\n",
        "X_norm, mu, sigma = featureNormalize(X)\n",
        "\n",
        "print(X)\n",
        "print('Media calculada:', mu)\n",
        "print('Desviación estandar calculada:', sigma)\n",
        "print(X_norm)"
      ]
    },
    {
      "cell_type": "markdown",
      "metadata": {
        "id": "pDbib1JVVn82"
      },
      "source": [
        "Despues de `featureNormalize` la funcion es provada, se añade el temino de interseccion a `X_norm`:"
      ]
    },
    {
      "cell_type": "code",
      "execution_count": 77,
      "metadata": {
        "id": "qXpGaaD0Vn83"
      },
      "outputs": [],
      "source": [
        "# Añade el termino de interseccion a X\n",
        "# (Columna de unos para X0)\n",
        "X = np.concatenate([np.ones((m, 1)), X_norm], axis=1)"
      ]
    },
    {
      "cell_type": "code",
      "execution_count": 78,
      "metadata": {
        "id": "Pzz24OdaVn83",
        "colab": {
          "base_uri": "https://localhost:8080/"
        },
        "outputId": "16057e23-7425-463c-ce96-6434799c7158"
      },
      "outputs": [
        {
          "output_type": "stream",
          "name": "stdout",
          "text": [
            "[[ 1.         -0.4298442   0.27052697 ... -1.48557597  0.43984983\n",
            "  -1.07234704]\n",
            " [ 1.         -0.42737381 -0.48942482 ... -0.31639018  0.43984983\n",
            "  -0.49073032]\n",
            " [ 1.         -0.42737617 -0.48942482 ... -0.31639018  0.39465034\n",
            "  -1.20516817]\n",
            " ...\n",
            " [ 1.         -0.34095025 -0.48942482 ... -1.5323434   0.3600011\n",
            "  -0.6361345 ]\n",
            " [ 1.         -0.09888284  2.88813869 ...  0.29158643 -0.73011742\n",
            "  -0.34113179]\n",
            " [ 1.         -0.42890265  3.31033413 ...  0.52542359  0.43984983\n",
            "  -0.71442906]]\n"
          ]
        }
      ],
      "source": [
        "print(X)"
      ]
    },
    {
      "cell_type": "markdown",
      "metadata": {
        "id": "V54HlIKAVn83"
      },
      "source": [
        "<a id=\"section5\"></a>\n",
        "### 2.2 Descenso por el gradiente\n",
        "\n",
        "En el ejemplo anterior se implemento el descenso por el gradiente para un problema de regresion univariable. La unica diferencia es que ahora existe una caracteristica adicional en la matriz $X$. La función de hipótesis y la regla de actualización del descenso del gradiente por lotes permanecen sin cambios.\n",
        "\n",
        "La implementacion de las funciones `computeCostMulti` y `gradientDescentMulti` son similares a la funcion de costo y función de descenso por el gradiente de la regresión lineal multiple es similar al de la regresion lineal multivariable. Es importante garantizar que el codigo soporte cualquier numero de caracteristicas y esten bien vectorizadas.\n",
        "\n",
        "Se puede utilizar `shape`, propiedad de los arrays `numpy`, para identificar cuantas caracteristicas estan consideradas en el dataset.\n",
        "\n",
        "<div class=\"alert alert-block alert-warning\">\n",
        "**Nota de implementación:** En el caso de multivariables, la función de costo puede se escrita considerando la forma vectorizada de la siguiente manera:\n",
        "\n",
        "$$ J(\\theta) = \\frac{1}{2m}(X\\theta - \\vec{y})^T(X\\theta - \\vec{y}) $$\n",
        "\n",
        "donde:\n",
        "\n",
        "$$ X = \\begin{pmatrix}\n",
        "          - (x^{(1)})^T - \\\\\n",
        "          - (x^{(2)})^T - \\\\\n",
        "          \\vdots \\\\\n",
        "          - (x^{(m)})^T - \\\\ \\\\\n",
        "        \\end{pmatrix} \\qquad \\mathbf{y} = \\begin{bmatrix} y^{(1)} \\\\ y^{(2)} \\\\ \\vdots \\\\ y^{(m)} \\\\\\end{bmatrix}$$\n",
        "\n",
        "La version vectorizada es eficiente cuando se trabaja con herramientas de calculo numericos computacional como `numpy`. \n",
        "</div>\n",
        "\n",
        "<a id=\"computeCostMulti\"></a>"
      ]
    },
    {
      "cell_type": "code",
      "execution_count": 79,
      "metadata": {
        "id": "R5xCTuCUVn83"
      },
      "outputs": [],
      "source": [
        "def computeCostMulti(X, y, theta):\n",
        "    # Inicializa algunos valores utiles\n",
        "    m = y.shape[0] # numero de ejemplos de entrenamiento\n",
        "    \n",
        "    J = 0\n",
        "    \n",
        "    h = np.dot(X, theta)\n",
        "    \n",
        "    J = (1/(2 * m)) * np.sum(np.square(np.dot(X, theta) - y))\n",
        "    \n",
        "    return J\n"
      ]
    },
    {
      "cell_type": "code",
      "execution_count": 80,
      "metadata": {
        "id": "1FbQyFHtVn83"
      },
      "outputs": [],
      "source": [
        "def gradientDescentMulti(X, y, theta, alpha, num_iters):\n",
        "    \n",
        "    # Inicializa algunos valores \n",
        "    m = y.shape[0] # numero de ejemplos de entrenamiento\n",
        "    \n",
        "    # realiza una copia de theta, el cual será acutalizada por el descenso por el gradiente\n",
        "    theta = theta.copy()\n",
        "    \n",
        "    J_history = []\n",
        "    \n",
        "    for i in range(num_iters):\n",
        "        theta = theta - (alpha / m) * (np.dot(X, theta) - y).dot(X)\n",
        "        J_history.append(computeCostMulti(X, y, theta))\n",
        "    \n",
        "    return theta, J_history"
      ]
    },
    {
      "cell_type": "markdown",
      "metadata": {
        "id": "dJ2VxNfaVn83"
      },
      "source": [
        "#### 3.2.1 Seleccionando coheficientes de aprendizaje\n"
      ]
    },
    {
      "cell_type": "code",
      "execution_count": 81,
      "metadata": {
        "id": "K4gVCgsfVn84",
        "colab": {
          "base_uri": "https://localhost:8080/",
          "height": 518
        },
        "outputId": "96f7be66-1d22-411e-d35b-9124d191ff85"
      },
      "outputs": [
        {
          "output_type": "stream",
          "name": "stdout",
          "text": [
            "theta calculado por el descenso por el gradiente: [22.45410242 -0.14547149  0.02557793 -0.13494385  0.0899106  -0.19686424\n",
            "  0.42604472 -0.1418235   0.0911122  -0.13192823 -0.06237409 -0.09393475\n",
            "  0.24078481 -0.20595259]\n",
            "El Valor medio de las viviendas ocupadas por sus propietarios en miles de dólares es): 24\n"
          ]
        },
        {
          "output_type": "display_data",
          "data": {
            "text/plain": [
              "<Figure size 640x480 with 1 Axes>"
            ],
            "image/png": "[encoded data removed]"
          },
          "metadata": {}
        }
      ],
      "source": [
        "# Elegir algun valor para alpha (probar varias alternativas)\n",
        "alpha = 0.08 # alpha = 0.003\n",
        "num_iters = 5000\n",
        "\n",
        "# inicializa theta y ejecuta el descenso por el gradiente\n",
        "theta = np.zeros(14)\n",
        "theta, J_history = gradientDescentMulti(X, y, theta, alpha, num_iters)\n",
        "\n",
        "# Grafica la convergencia del costo\n",
        "pyplot.plot(np.arange(len(J_history)), J_history, lw=2)\n",
        "pyplot.xlabel('Numero de iteraciones')\n",
        "pyplot.ylabel('Costo J')\n",
        "\n",
        "# Muestra los resultados del descenso por el gradiente\n",
        "print('theta calculado por el descenso por el gradiente: {:s}'.format(str(theta)))\n",
        "\n",
        "# Estimar el precio para una casa de 1650 sq-ft, con 3 dormitorios\n",
        "X_array = [1,0.00632,18.0,2.31,0,0.538,6.575,65.2,4.0900,1,296.0,15.3,396.90,4.98]\n",
        "X_array[1:14] = (X_array[1:14] - mu) / sigma\n",
        "price = np.dot(X_array, theta)   # Se debe cambiar esto\n",
        "\n",
        "print('El Valor medio de las viviendas ocupadas por sus propietarios en miles de dólares es): {:.0f}'.format(price))"
      ]
    },
    {
      "cell_type": "code",
      "execution_count": 82,
      "metadata": {
        "id": "5Bqbn4VtVn84"
      },
      "outputs": [],
      "source": [
        "X_array = [1,0.00632,18.0,2.31,0,0.538,6.575,65.2,4.0900,1,296.0,15.3,396.90,4.98]\n",
        "X_array[1:14] = (X_array[1:14] - mu) / sigma"
      ]
    },
    {
      "cell_type": "code",
      "execution_count": 83,
      "metadata": {
        "id": "YiFRyR0DVn84",
        "colab": {
          "base_uri": "https://localhost:8080/"
        },
        "outputId": "b557676e-1a8f-4726-87ea-8ce400daac7a"
      },
      "outputs": [
        {
          "output_type": "execute_result",
          "data": {
            "text/plain": [
              "[1,\n",
              " -0.4298442001889119,\n",
              " 0.2705269714690149,\n",
              " -1.30013335517752,\n",
              " -0.26471753203394705,\n",
              " -0.15830887860703738,\n",
              " 0.4437445169683635,\n",
              " -0.11387546530493005,\n",
              " 0.13528847767370544,\n",
              " -0.9755783305125526,\n",
              " -0.6696160378313899,\n",
              " -1.4855759716149752,\n",
              " 0.4398498327479065]"
            ]
          },
          "metadata": {},
          "execution_count": 83
        }
      ],
      "source": [
        "X_array[0:13]"
      ]
    },
    {
      "cell_type": "markdown",
      "metadata": {
        "id": "Tq1EPGUHVn84"
      },
      "source": [
        "<a id=\"section7\"></a>\n",
        "### 2.3 Ecuacion de la Normal\n",
        "\n",
        "Una manera de calcular rapidamente el modelo de una regresion lineal es:\n",
        "\n",
        "$$ \\theta = \\left( X^T X\\right)^{-1} X^T\\vec{y}$$\n",
        "\n",
        "Utilizando esta formula no requiere que se escale ninguna caracteristica, y se obtendra una solucion exacta con un solo calculo: no hay “bucles de convergencia” como en el descenso por el gradiente. \n",
        "\n",
        "Primero se recargan los datos para garantizar que las variables no esten modificadas. Recordar que no es necesario escalar las caracteristicas, se debe agregar la columna de unos a la matriz $X$ para tener el termino de intersección($\\theta_0$). "
      ]
    },
    {
      "cell_type": "code",
      "execution_count": 84,
      "metadata": {
        "id": "5UE0T8ENVn84"
      },
      "outputs": [],
      "source": [
        "# Cargar datos\n",
        "#data = np.loadtxt(os.path.join('Datasets', 'ex1data2.txt'), delimiter=',')\n",
        "X = data[:, :13]\n",
        "y = data[:, 13]\n",
        "m = y.size\n",
        "#X = np.concatenate([np.ones((m, 1)), X], axis=1)"
      ]
    },
    {
      "cell_type": "code",
      "execution_count": 85,
      "metadata": {
        "id": "JQrs-6cGVn84"
      },
      "outputs": [],
      "source": [
        "def normalEqn(X, y):\n",
        "  \n",
        "    theta = np.zeros(X.shape[1])\n",
        "    \n",
        "    theta = np.dot(np.dot(np.linalg.inv(np.dot(X.T,X)),X.T),y)\n",
        "    \n",
        "    return theta"
      ]
    },
    {
      "cell_type": "code",
      "execution_count": 86,
      "metadata": {
        "id": "d0OzpOyyVn84",
        "colab": {
          "base_uri": "https://localhost:8080/"
        },
        "outputId": "f83de456-a90e-4a18-97cb-3833a554682e"
      },
      "outputs": [
        {
          "output_type": "stream",
          "name": "stdout",
          "text": [
            "Theta calculado a partir de la ecuación de la normal: [-1.46966533e-02  4.88176575e-03 -3.10904917e-03  5.12390738e-01\n",
            "  2.00252718e+00  1.85287348e+00  2.77546838e-03  1.49357920e-01\n",
            " -5.43283524e-03  7.93402393e-04  3.36148890e-01  6.94666703e-03\n",
            " -6.83439136e-03]\n",
            "El Valor medio de las viviendas ocupadas por sus propietarios en miles de dólares es): 22\n"
          ]
        }
      ],
      "source": [
        "# Calcula los parametros con la ecuación de la normal\n",
        "theta = normalEqn(X, y);\n",
        "\n",
        "# Muestra los resultados optenidos a partir de la aplicación de la ecuación de la normal\n",
        "print('Theta calculado a partir de la ecuación de la normal: {:s}'.format(str(theta)));\n",
        "\n",
        "# Estimar el precio para una casa de superficie de 1650 sq-ft y tres dormitorios\n",
        "\n",
        "X_array = [0.00632,18.0,2.31,0,0.538,6.575,65.2,4.0900,1,296.0,15.3,396.90,4.98]\n",
        "price = np.dot(X_array, theta) \n",
        "\n",
        "print('El Valor medio de las viviendas ocupadas por sus propietarios en miles de dólares es): {:.0f}'.format(price))"
      ]
    }
  ],
  "metadata": {
    "colab": {
      "provenance": []
    },
    "kernelspec": {
      "display_name": "Python 3",
      "language": "python",
      "name": "python3"
    },
    "language_info": {
      "codemirror_mode": {
        "name": "ipython",
        "version": 3
      },
      "file_extension": ".py",
      "mimetype": "text/x-python",
      "name": "python",
      "nbconvert_exporter": "python",
      "pygments_lexer": "ipython3",
      "version": "3.8.5"
    }
  },
  "nbformat": 4,
  "nbformat_minor": 0
}